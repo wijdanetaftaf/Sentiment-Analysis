{
  "cells": [
    {
      "cell_type": "markdown",
      "metadata": {
        "id": "9BDo8UdEiMYG"
      },
      "source": [
        "\n",
        "# Introduction :\n",
        "L'objectif de ce notebook est de réaliser une analyse exploratoire des données (EDA) sur un jeu de données d'analyse des sentiments. Cette analyse vise à comprendre les sentiments (positif, négatif, neutre) exprimés dans un texte. L'EDA est essentielle pour :\n",
        "\n",
        "Comprendre la distribution des sentiments dans le jeu de données.\n",
        "Identifier les problèmes de qualité des données, tels que les valeurs manquantes ou les doublons.\n",
        "Déterminer les étapes de prétraitement nécessaires, comme la suppression des stopwords et la lemmatisation.\n",
        "Analyser les mots clés pour mieux comprendre les caractéristiques textuelles des différents sentiments.\n",
        "\n",
        "\n"
      ]
    },
    {
      "cell_type": "markdown",
      "metadata": {
        "id": "govwAwtnkFFF"
      },
      "source": [
        "## Importer les bibliothèques nécessaires"
      ]
    },
    {
      "cell_type": "code",
      "execution_count": 1,
      "metadata": {
        "colab": {
          "base_uri": "https://localhost:8080/"
        },
        "id": "V52ACuTQa-Gp",
        "outputId": "5d1a270e-3ffa-48f6-d1b6-cecf94506b4f"
      },
      "outputs": [
        {
          "name": "stderr",
          "output_type": "stream",
          "text": [
            "[nltk_data] Downloading package punkt to C:\\Users\\WIJDANE\n",
            "[nltk_data]     TAFTAF\\AppData\\Roaming\\nltk_data...\n",
            "[nltk_data]   Package punkt is already up-to-date!\n",
            "[nltk_data] Downloading package stopwords to C:\\Users\\WIJDANE\n",
            "[nltk_data]     TAFTAF\\AppData\\Roaming\\nltk_data...\n",
            "[nltk_data]   Package stopwords is already up-to-date!\n"
          ]
        },
        {
          "data": {
            "text/plain": [
              "True"
            ]
          },
          "execution_count": 1,
          "metadata": {},
          "output_type": "execute_result"
        }
      ],
      "source": [
        "# Importation de la bibliothèque pandas pour la manipulation des données\n",
        "import pandas as pd\n",
        "\n",
        "# Importation de defaultdict de la bibliothèque collections pour créer des dictionnaires avec des valeurs par défaut\n",
        "from collections import defaultdict\n",
        "\n",
        "# Cette ligne est utilisée dans les notebooks Jupyter pour afficher les graphiques directement dans le notebook\n",
        "%matplotlib inline\n",
        "\n",
        "# Importation des bibliothèques Plotly pour la visualisation interactive des données\n",
        "from plotly import graph_objs as go  # Importation de graph_objs pour créer des graphiques personnalisés\n",
        "import plotly.express as px  # Importation de plotly.express pour des visualisations plus simples et rapides\n",
        "\n",
        "# Importation de la bibliothèque nltk (Natural Language Toolkit) pour le traitement du langage naturel (NLP)\n",
        "import nltk\n",
        "\n",
        "# Importation du module string pour travailler avec des chaînes de caractères, en particulier pour les ponctuations\n",
        "import string\n",
        "\n",
        "# Importation du module stopwords de NLTK pour les mots vides courants (comme \"et\", \"le\", \"la\", etc.) à supprimer dans les textes\n",
        "from nltk.corpus import stopwords\n",
        "\n",
        "# Importation du PorterStemmer de NLTK pour effectuer du stemming sur les mots (réduire les mots à leur racine)\n",
        "from nltk.stem import PorterStemmer\n",
        "\n",
        "# Redondance : Importation à nouveau de defaultdict. Cela n'est pas nécessaire car il a déjà été importé plus haut.\n",
        "from collections import defaultdict\n",
        "\n",
        "# Téléchargement des ressources nécessaires si elles ne sont pas déjà présentes sur la machine\n",
        "nltk.download('punkt')  # Télécharge les ressources nécessaires pour la tokenisation des mots (découper le texte en mots)\n",
        "nltk.download(\"stopwords\")  # Télécharge la liste des mots vides (stopwords) qui sont souvent ignorés lors du prétraitement des textes\n"
      ]
    },
    {
      "cell_type": "markdown",
      "metadata": {
        "id": "s06lGCn6kMds"
      },
      "source": [
        "## Charger les données."
      ]
    },
    {
      "cell_type": "code",
      "execution_count": 2,
      "metadata": {
        "id": "87oSJyGUaxF2"
      },
      "outputs": [],
      "source": [
        "# Charger les données depuis un fichier CSV\n",
        "csv_file_path = 'train.csv'  # Spécifie le chemin du fichier CSV à charger\n",
        "df = pd.read_csv(csv_file_path)  # Utilise pandas pour lire le fichier CSV et le charger dans un DataFrame\n",
        "\n",
        "# Supprimer la colonne 'selected_text' car elle n'est pas nécessaire pour cette analyse\n",
        "df = df.drop(columns=['selected_text'])  # Cette ligne supprime la colonne 'selected_text' du DataFrame\n",
        "# Cette colonne peut contenir des informations supplémentaires non pertinentes pour l'analyse des sentiments\n",
        "\n",
        "# Convertir la colonne 'text' en type chaîne de caractères (string)\n",
        "df[\"text\"] = df[\"text\"].astype(str)  # Cette ligne s'assure que toutes les valeurs de la colonne 'text' sont de type string\n",
        "# Cela est important car parfois certaines valeurs peuvent être de type numérique ou d'autres types, ce qui pourrait poser problème lors du traitement du texte.\n"
      ]
    },
    {
      "cell_type": "markdown",
      "metadata": {
        "id": "dxTzIyGXkRk6"
      },
      "source": [
        "## Exploration des données\n",
        "Afficher des informations de base sur les données en utilisant df.shape, df.info(), et df.head()"
      ]
    },
    {
      "cell_type": "code",
      "execution_count": 3,
      "metadata": {
        "colab": {
          "base_uri": "https://localhost:8080/"
        },
        "id": "r1dcKLT7bwYp",
        "outputId": "757bdcc2-346d-44ee-cc2f-3446028fb45e"
      },
      "outputs": [
        {
          "name": "stdout",
          "output_type": "stream",
          "text": [
            "(27664, 3)\n"
          ]
        }
      ],
      "source": [
        "# Afficher la forme et les informations de base du DataFrame\n",
        "print(df.shape)"
      ]
    },
    {
      "cell_type": "code",
      "execution_count": 4,
      "metadata": {
        "colab": {
          "base_uri": "https://localhost:8080/"
        },
        "id": "h043Y2yJb1Vo",
        "outputId": "c4914ad3-da1d-4bc7-a322-1db0fe0b7c7e"
      },
      "outputs": [
        {
          "name": "stdout",
          "output_type": "stream",
          "text": [
            "<class 'pandas.core.frame.DataFrame'>\n",
            "RangeIndex: 27664 entries, 0 to 27663\n",
            "Data columns (total 3 columns):\n",
            " #   Column     Non-Null Count  Dtype \n",
            "---  ------     --------------  ----- \n",
            " 0   textID     27664 non-null  object\n",
            " 1   text       27664 non-null  object\n",
            " 2   sentiment  27664 non-null  object\n",
            "dtypes: object(3)\n",
            "memory usage: 648.5+ KB\n"
          ]
        }
      ],
      "source": [
        "# Affiche des informations détaillées sur le DataFrame, telles que la forme du DataFrame (nombre de lignes et de colonnes)\n",
        "df.info()"
      ]
    },
    {
      "cell_type": "markdown",
      "metadata": {
        "id": "ZUAzbsr3ka9Z"
      },
      "source": [
        "## Visualisation de la distribution des sentiments :\n",
        "\n",
        "Regrouper et compter les valeurs de sentiment."
      ]
    },
    {
      "cell_type": "code",
      "execution_count": 5,
      "metadata": {
        "id": "kaKPZybXrMUe"
      },
      "outputs": [],
      "source": [
        "# Grouper les données par sentiment et compter le nombre d'entrées pour chaque sentiment\n",
        "temp = df.groupby('sentiment').count()['text'].reset_index().sort_values(by='text', ascending=False)\n",
        "\n",
        "# Appliquer un style de dégradé de fond à la colonne 'temp' en utilisant la palette de couleurs 'Purples'\n",
        "styled_temp = temp.style.background_gradient(cmap='Purples')\n"
      ]
    },
    {
      "cell_type": "markdown",
      "metadata": {
        "id": "kX-9sE_lbdya"
      },
      "source": [
        "\n",
        "Visualiser la distribution des sentiments à l'aide d'un graphique en entonnoir.\n"
      ]
    },
    {
      "cell_type": "code",
      "execution_count": 10,
      "metadata": {
        "colab": {
          "base_uri": "https://localhost:8080/",
          "height": 542
        },
        "id": "Dw9P0ovdG7g-",
        "outputId": "84662579-5769-438b-e1bd-ce1ee37195f2"
      },
      "outputs": [],
      "source": [
        "# Créer un Funnel-Chart pour visualiser la distribution des sentiments\n",
        "fig = go.Figure(go.Funnelarea(\n",
        "    text=temp.sentiment,  # Les étiquettes des catégories (sentiment)\n",
        "    values=temp.text,     # Les valeurs (nombre de textes) pour chaque catégorie\n",
        "    title={\"position\": \"top center\", \"text\": \"Funnel-Chart of Sentiment Distribution\"}  # Titre du graphique avec une position centrale\n",
        "))"
      ]
    },
    {
      "cell_type": "code",
      "execution_count": 11,
      "metadata": {
        "colab": {
          "base_uri": "https://localhost:8080/",
          "height": 206
        },
        "id": "ywmYMamqq9dw",
        "outputId": "81ca45f7-d617-4cb1-d5cf-3139dca1f686"
      },
      "outputs": [
        {
          "data": {
            "text/html": [
              "<div>\n",
              "<style scoped>\n",
              "    .dataframe tbody tr th:only-of-type {\n",
              "        vertical-align: middle;\n",
              "    }\n",
              "\n",
              "    .dataframe tbody tr th {\n",
              "        vertical-align: top;\n",
              "    }\n",
              "\n",
              "    .dataframe thead th {\n",
              "        text-align: right;\n",
              "    }\n",
              "</style>\n",
              "<table border=\"1\" class=\"dataframe\">\n",
              "  <thead>\n",
              "    <tr style=\"text-align: right;\">\n",
              "      <th></th>\n",
              "      <th>textID</th>\n",
              "      <th>text</th>\n",
              "      <th>sentiment</th>\n",
              "    </tr>\n",
              "  </thead>\n",
              "  <tbody>\n",
              "    <tr>\n",
              "      <th>0</th>\n",
              "      <td>cb774db0d1</td>\n",
              "      <td>I`d have responded, if I were going</td>\n",
              "      <td>neutral</td>\n",
              "    </tr>\n",
              "    <tr>\n",
              "      <th>1</th>\n",
              "      <td>549e992a42</td>\n",
              "      <td>Sooo SAD I will miss you here in San Diego!!!</td>\n",
              "      <td>negative</td>\n",
              "    </tr>\n",
              "    <tr>\n",
              "      <th>2</th>\n",
              "      <td>088c60f138</td>\n",
              "      <td>my boss is bullying me...</td>\n",
              "      <td>negative</td>\n",
              "    </tr>\n",
              "    <tr>\n",
              "      <th>3</th>\n",
              "      <td>9642c003ef</td>\n",
              "      <td>what interview! leave me alone</td>\n",
              "      <td>negative</td>\n",
              "    </tr>\n",
              "    <tr>\n",
              "      <th>4</th>\n",
              "      <td>358bd9e861</td>\n",
              "      <td>Sons of ****, why couldn`t they put them on t...</td>\n",
              "      <td>negative</td>\n",
              "    </tr>\n",
              "  </tbody>\n",
              "</table>\n",
              "</div>"
            ],
            "text/plain": [
              "       textID                                               text sentiment\n",
              "0  cb774db0d1                I`d have responded, if I were going   neutral\n",
              "1  549e992a42      Sooo SAD I will miss you here in San Diego!!!  negative\n",
              "2  088c60f138                          my boss is bullying me...  negative\n",
              "3  9642c003ef                     what interview! leave me alone  negative\n",
              "4  358bd9e861   Sons of ****, why couldn`t they put them on t...  negative"
            ]
          },
          "execution_count": 11,
          "metadata": {},
          "output_type": "execute_result"
        }
      ],
      "source": [
        "# Afficher les premières lignes du DataFrame\n",
        "df.head()"
      ]
    },
    {
      "cell_type": "markdown",
      "metadata": {
        "id": "DW2SE8cKk74w"
      },
      "source": [
        "## Prétraitement du texte :\n",
        "\n",
        "Définir la fonction preprocess_tweet."
      ]
    },
    {
      "cell_type": "code",
      "execution_count": 12,
      "metadata": {
        "id": "9ia34pGZcrf9"
      },
      "outputs": [],
      "source": [
        "# Fonction de prétraitement pour nettoyer et tokeniser les tweets\n",
        "def preprocess_tweet(tweet):\n",
        "    tweet = tweet.lower()  # Convertir le texte en minuscules\n",
        "    tweet = tweet.translate(str.maketrans(\"\", \"\", string.punctuation))  # Supprimer la ponctuation\n",
        "    tokens = nltk.word_tokenize(tweet)  # Tokeniser le texte (diviser le texte en mots)\n",
        "    stemmer = PorterStemmer()  # Créer une instance du stemmer Porter (pour le stemming des mots)\n",
        "    stopwords_set = set(stopwords.words(\"english\"))  # Obtenir un ensemble de mots vides (stopwords) en anglais\n",
        "    tokens = [stemmer.stem(token) for token in tokens if token not in stopwords_set]  # Appliquer le stemming et supprimer les stopwords\n",
        "    return tokens  # Retourner les tokens traités"
      ]
    },
    {
      "cell_type": "markdown",
      "metadata": {
        "id": "s2umRRKjlHvd"
      },
      "source": [
        "1. Définir la fonction calculate_word_counts.\n",
        "2. Tokeniser et prétraiter les données textuelles en utilisant NLTK."
      ]
    },
    {
      "cell_type": "code",
      "execution_count": 13,
      "metadata": {
        "id": "ezssTApvcS94"
      },
      "outputs": [],
      "source": [
        "# Fonction pour calculer le nombre d'occurrences de chaque mot dans une liste de tweets\n",
        "def calculate_word_counts(tweets):\n",
        "    word_count = defaultdict(int)  # Initialiser un dictionnaire avec une valeur par défaut de 0\n",
        "    for tweet in tweets:\n",
        "        tokens = preprocess_tweet(tweet)  # Prétraiter chaque tweet pour obtenir les tokens\n",
        "        for token in tokens:\n",
        "            word_count[token] += 1  # Incrémenter le compteur pour chaque token trouvé\n",
        "    return word_count  # Retourner le dictionnaire contenant les comptages des mots"
      ]
    },
    {
      "cell_type": "markdown",
      "metadata": {
        "id": "UQ0a2f6DlYQt"
      },
      "source": [
        "## Analyse du nombre de mots :\n",
        "\n",
        "1. Calculer le nombre de mots pour chaque classe de sentiment.\n",
        "2. Convertir les comptes de mots en DataFrames.\n",
        "3. Afficher les mots les plus fréquents et leurs occurrences pour chaque classe de sentiment."
      ]
    },
    {
      "cell_type": "code",
      "execution_count": 14,
      "metadata": {
        "id": "dXFT_Oi1cMW5"
      },
      "outputs": [],
      "source": [
        "# Calculer le nombre de mots pour les tweets ayant un sentiment 'positif'\n",
        "word_count_positive = calculate_word_counts(df[df['sentiment'] == 'positive']['text'])\n",
        "\n",
        "# Calculer le nombre de mots pour les tweets ayant un sentiment 'négatif'\n",
        "word_count_negative = calculate_word_counts(df[df['sentiment'] == 'negative']['text'])\n",
        "\n",
        "# Calculer le nombre de mots pour les tweets ayant un sentiment 'neutre'\n",
        "word_count_neutral = calculate_word_counts(df[df['sentiment'] == 'neutral']['text'])"
      ]
    },
    {
      "cell_type": "code",
      "execution_count": 15,
      "metadata": {
        "id": "My3L8AnzdlNt"
      },
      "outputs": [],
      "source": [
        "# Convertir les comptages de mots en DataFrames pour une meilleure visualisation\n",
        "word_count_positive_df = pd.DataFrame(word_count_positive.items(), columns=['Word', 'Count'])\n",
        "word_count_negative_df = pd.DataFrame(word_count_negative.items(), columns=['Word', 'Count'])\n",
        "word_count_neutral_df = pd.DataFrame(word_count_neutral.items(), columns=['Word', 'Count'])\n"
      ]
    },
    {
      "cell_type": "code",
      "execution_count": 16,
      "metadata": {
        "colab": {
          "base_uri": "https://localhost:8080/"
        },
        "id": "tEPVfCcahNG9",
        "outputId": "7b10e58b-7934-46b6-e667-5d51f9bb9437"
      },
      "outputs": [
        {
          "name": "stdout",
          "output_type": "stream",
          "text": [
            "Word Counts - Positive Sentiment:\n",
            "    Word  Count\n",
            "0    2am      2\n",
            "1   feed      9\n",
            "2   babi     65\n",
            "3    fun    344\n",
            "4  smile     45\n",
            "\n",
            "Word Counts - Negative Sentiment:\n",
            "    Word  Count\n",
            "0   sooo     38\n",
            "1    sad    398\n",
            "2   miss    660\n",
            "3    san      9\n",
            "4  diego      6\n",
            "\n",
            "Word Counts - Neutral Sentiment:\n",
            "                       Word  Count\n",
            "0                        id     72\n",
            "1                   respond     11\n",
            "2                        go   1055\n",
            "3  httpwwwdothebouncycomsmf      1\n",
            "4                 shameless      1\n"
          ]
        }
      ],
      "source": [
        "# Afficher les mots les plus fréquents et leurs comptages pour chaque classe de sentiment\n",
        "\n",
        "# Afficher les comptages des mots pour les tweets avec un sentiment positif\n",
        "print(\"Word Counts - Positive Sentiment:\")\n",
        "print(word_count_positive_df.head())  # Affiche les 5 premiers mots et leur fréquence pour le sentiment positif\n",
        "\n",
        "# Afficher les comptages des mots pour les tweets avec un sentiment négatif\n",
        "print(\"\\nWord Counts - Negative Sentiment:\")\n",
        "print(word_count_negative_df.head())  # Affiche les 5 premiers mots et leur fréquence pour le sentiment négatif\n",
        "\n",
        "# Afficher les comptages des mots pour les tweets avec un sentiment neutre\n",
        "print(\"\\nWord Counts - Neutral Sentiment:\")\n",
        "print(word_count_neutral_df.head())  # Affiche les 5 premiers mots et leur fréquence pour le sentiment neutre\n"
      ]
    },
    {
      "cell_type": "markdown",
      "metadata": {
        "id": "10fsLMvvlsn0"
      },
      "source": [
        "## Visualisation des mots les plus fréquents :\n",
        "\n",
        "1. Afficher les mots les plus fréquents pour le sentiment positif avec un DataFrame stylisé.\n",
        "2. Visualiser les mots positifs les plus fréquents à l'aide d'un treemap.\n",
        "3. Répéter les étapes ci-dessus pour les sentiments négatif et neutre."
      ]
    },
    {
      "cell_type": "code",
      "execution_count": 17,
      "metadata": {
        "id": "sIOZFHDXZluO"
      },
      "outputs": [],
      "source": [
        "# Trier et sélectionner les 20 mots les plus fréquents pour chaque classe de sentiment\n",
        "\n",
        "# Pour les tweets avec un sentiment positif, trier les mots par fréquence et sélectionner les 20 premiers\n",
        "top_positive_words = word_count_positive_df.sort_values(by='Count', ascending=False).head(20)\n",
        "\n",
        "# Pour les tweets avec un sentiment négatif, trier les mots par fréquence et sélectionner les 20 premiers\n",
        "top_negative_words = word_count_negative_df.sort_values(by='Count', ascending=False).head(20)\n",
        "\n",
        "# Pour les tweets avec un sentiment neutre, trier les mots par fréquence et sélectionner les 20 premiers\n",
        "top_neutral_words = word_count_neutral_df.sort_values(by='Count', ascending=False).head(20)\n"
      ]
    },
    {
      "cell_type": "code",
      "execution_count": 18,
      "metadata": {
        "colab": {
          "base_uri": "https://localhost:8080/",
          "height": 713
        },
        "id": "e13Fz0dnfYaU",
        "outputId": "35b8f99f-e2d7-4c3e-b3dc-301229512bc1"
      },
      "outputs": [
        {
          "name": "stdout",
          "output_type": "stream",
          "text": [
            "Top 20 Words - Positive Sentiment:\n",
            "\n"
          ]
        },
        {
          "data": {
            "text/html": [
              "<style type=\"text/css\">\n",
              "#T_34e14_row0_col1 {\n",
              "  background-color: #08306b;\n",
              "  color: #f1f1f1;\n",
              "}\n",
              "#T_34e14_row1_col1 {\n",
              "  background-color: #1561a9;\n",
              "  color: #f1f1f1;\n",
              "}\n",
              "#T_34e14_row2_col1 {\n",
              "  background-color: #2676b8;\n",
              "  color: #f1f1f1;\n",
              "}\n",
              "#T_34e14_row3_col1 {\n",
              "  background-color: #63a8d3;\n",
              "  color: #f1f1f1;\n",
              "}\n",
              "#T_34e14_row4_col1 {\n",
              "  background-color: #71b1d7;\n",
              "  color: #f1f1f1;\n",
              "}\n",
              "#T_34e14_row5_col1 {\n",
              "  background-color: #8dc1dd;\n",
              "  color: #000000;\n",
              "}\n",
              "#T_34e14_row6_col1 {\n",
              "  background-color: #a9cfe5;\n",
              "  color: #000000;\n",
              "}\n",
              "#T_34e14_row7_col1 {\n",
              "  background-color: #c7dcef;\n",
              "  color: #000000;\n",
              "}\n",
              "#T_34e14_row8_col1 {\n",
              "  background-color: #d2e3f3;\n",
              "  color: #000000;\n",
              "}\n",
              "#T_34e14_row9_col1, #T_34e14_row10_col1 {\n",
              "  background-color: #d9e7f5;\n",
              "  color: #000000;\n",
              "}\n",
              "#T_34e14_row11_col1 {\n",
              "  background-color: #dae8f6;\n",
              "  color: #000000;\n",
              "}\n",
              "#T_34e14_row12_col1, #T_34e14_row13_col1 {\n",
              "  background-color: #f4f9fe;\n",
              "  color: #000000;\n",
              "}\n",
              "#T_34e14_row14_col1, #T_34e14_row15_col1 {\n",
              "  background-color: #f5f9fe;\n",
              "  color: #000000;\n",
              "}\n",
              "#T_34e14_row16_col1, #T_34e14_row17_col1, #T_34e14_row18_col1 {\n",
              "  background-color: #f5fafe;\n",
              "  color: #000000;\n",
              "}\n",
              "#T_34e14_row19_col1 {\n",
              "  background-color: #f7fbff;\n",
              "  color: #000000;\n",
              "}\n",
              "</style>\n",
              "<table id=\"T_34e14\">\n",
              "  <thead>\n",
              "    <tr>\n",
              "      <th class=\"blank level0\" >&nbsp;</th>\n",
              "      <th id=\"T_34e14_level0_col0\" class=\"col_heading level0 col0\" >Word</th>\n",
              "      <th id=\"T_34e14_level0_col1\" class=\"col_heading level0 col1\" >Count</th>\n",
              "    </tr>\n",
              "  </thead>\n",
              "  <tbody>\n",
              "    <tr>\n",
              "      <th id=\"T_34e14_level0_row0\" class=\"row_heading level0 row0\" >74</th>\n",
              "      <td id=\"T_34e14_row0_col0\" class=\"data row0 col0\" >day</td>\n",
              "      <td id=\"T_34e14_row0_col1\" class=\"data row0 col1\" >1326</td>\n",
              "    </tr>\n",
              "    <tr>\n",
              "      <th id=\"T_34e14_level0_row1\" class=\"row_heading level0 row1\" >16</th>\n",
              "      <td id=\"T_34e14_row1_col0\" class=\"data row1 col0\" >love</td>\n",
              "      <td id=\"T_34e14_row1_col1\" class=\"data row1 col1\" >1139</td>\n",
              "    </tr>\n",
              "    <tr>\n",
              "      <th id=\"T_34e14_level0_row2\" class=\"row_heading level0 row2\" >103</th>\n",
              "      <td id=\"T_34e14_row2_col0\" class=\"data row2 col0\" >good</td>\n",
              "      <td id=\"T_34e14_row2_col1\" class=\"data row2 col1\" >1056</td>\n",
              "    </tr>\n",
              "    <tr>\n",
              "      <th id=\"T_34e14_level0_row3\" class=\"row_heading level0 row3\" >66</th>\n",
              "      <td id=\"T_34e14_row3_col0\" class=\"data row3 col0\" >happi</td>\n",
              "      <td id=\"T_34e14_row3_col1\" class=\"data row3 col1\" >852</td>\n",
              "    </tr>\n",
              "    <tr>\n",
              "      <th id=\"T_34e14_level0_row4\" class=\"row_heading level0 row4\" >112</th>\n",
              "      <td id=\"T_34e14_row4_col0\" class=\"data row4 col0\" >thank</td>\n",
              "      <td id=\"T_34e14_row4_col1\" class=\"data row4 col1\" >814</td>\n",
              "    </tr>\n",
              "    <tr>\n",
              "      <th id=\"T_34e14_level0_row5\" class=\"row_heading level0 row5\" >38</th>\n",
              "      <td id=\"T_34e14_row5_col0\" class=\"data row5 col0\" >im</td>\n",
              "      <td id=\"T_34e14_row5_col1\" class=\"data row5 col1\" >742</td>\n",
              "    </tr>\n",
              "    <tr>\n",
              "      <th id=\"T_34e14_level0_row6\" class=\"row_heading level0 row6\" >143</th>\n",
              "      <td id=\"T_34e14_row6_col0\" class=\"data row6 col0\" >mother</td>\n",
              "      <td id=\"T_34e14_row6_col1\" class=\"data row6 col1\" >668</td>\n",
              "    </tr>\n",
              "    <tr>\n",
              "      <th id=\"T_34e14_level0_row7\" class=\"row_heading level0 row7\" >49</th>\n",
              "      <td id=\"T_34e14_row7_col0\" class=\"data row7 col0\" >go</td>\n",
              "      <td id=\"T_34e14_row7_col1\" class=\"data row7 col1\" >573</td>\n",
              "    </tr>\n",
              "    <tr>\n",
              "      <th id=\"T_34e14_level0_row8\" class=\"row_heading level0 row8\" >55</th>\n",
              "      <td id=\"T_34e14_row8_col0\" class=\"data row8 col0\" >hope</td>\n",
              "      <td id=\"T_34e14_row8_col1\" class=\"data row8 col1\" >519</td>\n",
              "    </tr>\n",
              "    <tr>\n",
              "      <th id=\"T_34e14_level0_row9\" class=\"row_heading level0 row9\" >426</th>\n",
              "      <td id=\"T_34e14_row9_col0\" class=\"data row9 col0\" >great</td>\n",
              "      <td id=\"T_34e14_row9_col1\" class=\"data row9 col1\" >481</td>\n",
              "    </tr>\n",
              "    <tr>\n",
              "      <th id=\"T_34e14_level0_row10\" class=\"row_heading level0 row10\" >14</th>\n",
              "      <td id=\"T_34e14_row10_col0\" class=\"data row10 col0\" >like</td>\n",
              "      <td id=\"T_34e14_row10_col1\" class=\"data row10 col1\" >481</td>\n",
              "    </tr>\n",
              "    <tr>\n",
              "      <th id=\"T_34e14_level0_row11\" class=\"row_heading level0 row11\" >451</th>\n",
              "      <td id=\"T_34e14_row11_col0\" class=\"data row11 col0\" >get</td>\n",
              "      <td id=\"T_34e14_row11_col1\" class=\"data row11 col1\" >476</td>\n",
              "    </tr>\n",
              "    <tr>\n",
              "      <th id=\"T_34e14_level0_row12\" class=\"row_heading level0 row12\" >223</th>\n",
              "      <td id=\"T_34e14_row12_col0\" class=\"data row12 col0\" >today</td>\n",
              "      <td id=\"T_34e14_row12_col1\" class=\"data row12 col1\" >346</td>\n",
              "    </tr>\n",
              "    <tr>\n",
              "      <th id=\"T_34e14_level0_row13\" class=\"row_heading level0 row13\" >176</th>\n",
              "      <td id=\"T_34e14_row13_col0\" class=\"data row13 col0\" >got</td>\n",
              "      <td id=\"T_34e14_row13_col1\" class=\"data row13 col1\" >345</td>\n",
              "    </tr>\n",
              "    <tr>\n",
              "      <th id=\"T_34e14_level0_row14\" class=\"row_heading level0 row14\" >3</th>\n",
              "      <td id=\"T_34e14_row14_col0\" class=\"data row14 col0\" >fun</td>\n",
              "      <td id=\"T_34e14_row14_col1\" class=\"data row14 col1\" >344</td>\n",
              "    </tr>\n",
              "    <tr>\n",
              "      <th id=\"T_34e14_level0_row15\" class=\"row_heading level0 row15\" >102</th>\n",
              "      <td id=\"T_34e14_row15_col0\" class=\"data row15 col0\" >work</td>\n",
              "      <td id=\"T_34e14_row15_col1\" class=\"data row15 col1\" >343</td>\n",
              "    </tr>\n",
              "    <tr>\n",
              "      <th id=\"T_34e14_level0_row16\" class=\"row_heading level0 row16\" >71</th>\n",
              "      <td id=\"T_34e14_row16_col0\" class=\"data row16 col0\" >time</td>\n",
              "      <td id=\"T_34e14_row16_col1\" class=\"data row16 col1\" >339</td>\n",
              "    </tr>\n",
              "    <tr>\n",
              "      <th id=\"T_34e14_level0_row17\" class=\"row_heading level0 row17\" >111</th>\n",
              "      <td id=\"T_34e14_row17_col0\" class=\"data row17 col0\" >lol</td>\n",
              "      <td id=\"T_34e14_row17_col1\" class=\"data row17 col1\" >339</td>\n",
              "    </tr>\n",
              "    <tr>\n",
              "      <th id=\"T_34e14_level0_row18\" class=\"row_heading level0 row18\" >95</th>\n",
              "      <td id=\"T_34e14_row18_col0\" class=\"data row18 col0\" >nice</td>\n",
              "      <td id=\"T_34e14_row18_col1\" class=\"data row18 col1\" >338</td>\n",
              "    </tr>\n",
              "    <tr>\n",
              "      <th id=\"T_34e14_level0_row19\" class=\"row_heading level0 row19\" >272</th>\n",
              "      <td id=\"T_34e14_row19_col0\" class=\"data row19 col0\" >night</td>\n",
              "      <td id=\"T_34e14_row19_col1\" class=\"data row19 col1\" >329</td>\n",
              "    </tr>\n",
              "  </tbody>\n",
              "</table>\n"
            ],
            "text/plain": [
              "<pandas.io.formats.style.Styler at 0x14dcc0c49d0>"
            ]
          },
          "execution_count": 18,
          "metadata": {},
          "output_type": "execute_result"
        }
      ],
      "source": [
        "# Afficher les 20 mots les plus fréquents pour les tweets ayant un sentiment positif\n",
        "print(\"Top 20 Words - Positive Sentiment:\")\n",
        "print()  # Ajouter une ligne vide pour mieux organiser la sortie\n",
        "\n",
        "# Appliquer un dégradé de fond pour styliser le DataFrame et l'afficher\n",
        "styled_positive_words = top_positive_words.style.background_gradient(cmap='Blues')\n",
        "\n",
        "# Afficher le DataFrame stylisé avec le dégradé de fond\n",
        "styled_positive_words\n"
      ]
    },
    {
      "cell_type": "code",
      "execution_count": 20,
      "metadata": {
        "colab": {
          "base_uri": "https://localhost:8080/",
          "height": 542
        },
        "id": "N1qOsdCGfi3z",
        "outputId": "c602f2f1-d732-43f9-8f96-e6a1c21c6f42"
      },
      "outputs": [],
      "source": [
        "# Créer un treemap avec Plotly Express pour visualiser les mots positifs les plus fréquents\n",
        "fig = px.treemap(top_positive_words, path=['Word'], values='Count', title='Tree Of Unique Positive Words')"
      ]
    },
    {
      "cell_type": "code",
      "execution_count": 21,
      "metadata": {
        "colab": {
          "base_uri": "https://localhost:8080/",
          "height": 732
        },
        "id": "Bv9hjmPUeogY",
        "outputId": "2dc69d64-5f4a-47e4-f4a7-d5b2fec44de6"
      },
      "outputs": [
        {
          "name": "stdout",
          "output_type": "stream",
          "text": [
            "\n",
            "Top 20 Words - Negative Sentiment:\n",
            "\n"
          ]
        },
        {
          "data": {
            "text/html": [
              "<style type=\"text/css\">\n",
              "#T_16557_row0_col1 {\n",
              "  background-color: #3f007d;\n",
              "  color: #f1f1f1;\n",
              "}\n",
              "#T_16557_row1_col1 {\n",
              "  background-color: #a3a0cb;\n",
              "  color: #f1f1f1;\n",
              "}\n",
              "#T_16557_row2_col1 {\n",
              "  background-color: #b6b6d8;\n",
              "  color: #000000;\n",
              "}\n",
              "#T_16557_row3_col1 {\n",
              "  background-color: #c2c3df;\n",
              "  color: #000000;\n",
              "}\n",
              "#T_16557_row4_col1 {\n",
              "  background-color: #dedeed;\n",
              "  color: #000000;\n",
              "}\n",
              "#T_16557_row5_col1 {\n",
              "  background-color: #dfdfed;\n",
              "  color: #000000;\n",
              "}\n",
              "#T_16557_row6_col1, #T_16557_row7_col1 {\n",
              "  background-color: #e3e2ef;\n",
              "  color: #000000;\n",
              "}\n",
              "#T_16557_row8_col1 {\n",
              "  background-color: #e4e3f0;\n",
              "  color: #000000;\n",
              "}\n",
              "#T_16557_row9_col1 {\n",
              "  background-color: #eeecf5;\n",
              "  color: #000000;\n",
              "}\n",
              "#T_16557_row10_col1 {\n",
              "  background-color: #efedf5;\n",
              "  color: #000000;\n",
              "}\n",
              "#T_16557_row11_col1 {\n",
              "  background-color: #f4f3f8;\n",
              "  color: #000000;\n",
              "}\n",
              "#T_16557_row12_col1 {\n",
              "  background-color: #f5f4f9;\n",
              "  color: #000000;\n",
              "}\n",
              "#T_16557_row13_col1 {\n",
              "  background-color: #f6f4f9;\n",
              "  color: #000000;\n",
              "}\n",
              "#T_16557_row14_col1, #T_16557_row15_col1 {\n",
              "  background-color: #f8f6fa;\n",
              "  color: #000000;\n",
              "}\n",
              "#T_16557_row16_col1 {\n",
              "  background-color: #f9f8fb;\n",
              "  color: #000000;\n",
              "}\n",
              "#T_16557_row17_col1, #T_16557_row18_col1 {\n",
              "  background-color: #faf9fc;\n",
              "  color: #000000;\n",
              "}\n",
              "#T_16557_row19_col1 {\n",
              "  background-color: #fcfbfd;\n",
              "  color: #000000;\n",
              "}\n",
              "</style>\n",
              "<table id=\"T_16557\">\n",
              "  <thead>\n",
              "    <tr>\n",
              "      <th class=\"blank level0\" >&nbsp;</th>\n",
              "      <th id=\"T_16557_level0_col0\" class=\"col_heading level0 col0\" >Word</th>\n",
              "      <th id=\"T_16557_level0_col1\" class=\"col_heading level0 col1\" >Count</th>\n",
              "    </tr>\n",
              "  </thead>\n",
              "  <tbody>\n",
              "    <tr>\n",
              "      <th id=\"T_16557_level0_row0\" class=\"row_heading level0 row0\" >54</th>\n",
              "      <td id=\"T_16557_row0_col0\" class=\"data row0 col0\" >im</td>\n",
              "      <td id=\"T_16557_row0_col1\" class=\"data row0 col1\" >1227</td>\n",
              "    </tr>\n",
              "    <tr>\n",
              "      <th id=\"T_16557_level0_row1\" class=\"row_heading level0 row1\" >22</th>\n",
              "      <td id=\"T_16557_row1_col0\" class=\"data row1 col0\" >go</td>\n",
              "      <td id=\"T_16557_row1_col1\" class=\"data row1 col1\" >735</td>\n",
              "    </tr>\n",
              "    <tr>\n",
              "      <th id=\"T_16557_level0_row2\" class=\"row_heading level0 row2\" >2</th>\n",
              "      <td id=\"T_16557_row2_col0\" class=\"data row2 col0\" >miss</td>\n",
              "      <td id=\"T_16557_row2_col1\" class=\"data row2 col1\" >660</td>\n",
              "    </tr>\n",
              "    <tr>\n",
              "      <th id=\"T_16557_level0_row3\" class=\"row_heading level0 row3\" >155</th>\n",
              "      <td id=\"T_16557_row3_col0\" class=\"data row3 col0\" >get</td>\n",
              "      <td id=\"T_16557_row3_col1\" class=\"data row3 col1\" >613</td>\n",
              "    </tr>\n",
              "    <tr>\n",
              "      <th id=\"T_16557_level0_row4\" class=\"row_heading level0 row4\" >66</th>\n",
              "      <td id=\"T_16557_row4_col0\" class=\"data row4 col0\" >work</td>\n",
              "      <td id=\"T_16557_row4_col1\" class=\"data row4 col1\" >493</td>\n",
              "    </tr>\n",
              "    <tr>\n",
              "      <th id=\"T_16557_level0_row5\" class=\"row_heading level0 row5\" >102</th>\n",
              "      <td id=\"T_16557_row5_col0\" class=\"data row5 col0\" >like</td>\n",
              "      <td id=\"T_16557_row5_col1\" class=\"data row5 col1\" >492</td>\n",
              "    </tr>\n",
              "    <tr>\n",
              "      <th id=\"T_16557_level0_row6\" class=\"row_heading level0 row6\" >106</th>\n",
              "      <td id=\"T_16557_row6_col0\" class=\"data row6 col0\" >dont</td>\n",
              "      <td id=\"T_16557_row6_col1\" class=\"data row6 col1\" >469</td>\n",
              "    </tr>\n",
              "    <tr>\n",
              "      <th id=\"T_16557_level0_row7\" class=\"row_heading level0 row7\" >199</th>\n",
              "      <td id=\"T_16557_row7_col0\" class=\"data row7 col0\" >feel</td>\n",
              "      <td id=\"T_16557_row7_col1\" class=\"data row7 col1\" >467</td>\n",
              "    </tr>\n",
              "    <tr>\n",
              "      <th id=\"T_16557_level0_row8\" class=\"row_heading level0 row8\" >299</th>\n",
              "      <td id=\"T_16557_row8_col0\" class=\"data row8 col0\" >cant</td>\n",
              "      <td id=\"T_16557_row8_col1\" class=\"data row8 col1\" >463</td>\n",
              "    </tr>\n",
              "    <tr>\n",
              "      <th id=\"T_16557_level0_row9\" class=\"row_heading level0 row9\" >39</th>\n",
              "      <td id=\"T_16557_row9_col0\" class=\"data row9 col0\" >day</td>\n",
              "      <td id=\"T_16557_row9_col1\" class=\"data row9 col1\" >404</td>\n",
              "    </tr>\n",
              "    <tr>\n",
              "      <th id=\"T_16557_level0_row10\" class=\"row_heading level0 row10\" >1</th>\n",
              "      <td id=\"T_16557_row10_col0\" class=\"data row10 col0\" >sad</td>\n",
              "      <td id=\"T_16557_row10_col1\" class=\"data row10 col1\" >398</td>\n",
              "    </tr>\n",
              "    <tr>\n",
              "      <th id=\"T_16557_level0_row11\" class=\"row_heading level0 row11\" >68</th>\n",
              "      <td id=\"T_16557_row11_col0\" class=\"data row11 col0\" >got</td>\n",
              "      <td id=\"T_16557_row11_col1\" class=\"data row11 col1\" >355</td>\n",
              "    </tr>\n",
              "    <tr>\n",
              "      <th id=\"T_16557_level0_row12\" class=\"row_heading level0 row12\" >55</th>\n",
              "      <td id=\"T_16557_row12_col0\" class=\"data row12 col0\" >sorri</td>\n",
              "      <td id=\"T_16557_row12_col1\" class=\"data row12 col1\" >342</td>\n",
              "    </tr>\n",
              "    <tr>\n",
              "      <th id=\"T_16557_level0_row13\" class=\"row_heading level0 row13\" >126</th>\n",
              "      <td id=\"T_16557_row13_col0\" class=\"data row13 col0\" >realli</td>\n",
              "      <td id=\"T_16557_row13_col1\" class=\"data row13 col1\" >339</td>\n",
              "    </tr>\n",
              "    <tr>\n",
              "      <th id=\"T_16557_level0_row14\" class=\"row_heading level0 row14\" >144</th>\n",
              "      <td id=\"T_16557_row14_col0\" class=\"data row14 col0\" >today</td>\n",
              "      <td id=\"T_16557_row14_col1\" class=\"data row14 col1\" >325</td>\n",
              "    </tr>\n",
              "    <tr>\n",
              "      <th id=\"T_16557_level0_row15\" class=\"row_heading level0 row15\" >21</th>\n",
              "      <td id=\"T_16557_row15_col0\" class=\"data row15 col0\" >want</td>\n",
              "      <td id=\"T_16557_row15_col1\" class=\"data row15 col1\" >323</td>\n",
              "    </tr>\n",
              "    <tr>\n",
              "      <th id=\"T_16557_level0_row16\" class=\"row_heading level0 row16\" >250</th>\n",
              "      <td id=\"T_16557_row16_col0\" class=\"data row16 col0\" >hate</td>\n",
              "      <td id=\"T_16557_row16_col1\" class=\"data row16 col1\" >311</td>\n",
              "    </tr>\n",
              "    <tr>\n",
              "      <th id=\"T_16557_level0_row17\" class=\"row_heading level0 row17\" >53</th>\n",
              "      <td id=\"T_16557_row17_col0\" class=\"data row17 col0\" >one</td>\n",
              "      <td id=\"T_16557_row17_col1\" class=\"data row17 col1\" >301</td>\n",
              "    </tr>\n",
              "    <tr>\n",
              "      <th id=\"T_16557_level0_row18\" class=\"row_heading level0 row18\" >266</th>\n",
              "      <td id=\"T_16557_row18_col0\" class=\"data row18 col0\" >bad</td>\n",
              "      <td id=\"T_16557_row18_col1\" class=\"data row18 col1\" >300</td>\n",
              "    </tr>\n",
              "    <tr>\n",
              "      <th id=\"T_16557_level0_row19\" class=\"row_heading level0 row19\" >437</th>\n",
              "      <td id=\"T_16557_row19_col0\" class=\"data row19 col0\" >think</td>\n",
              "      <td id=\"T_16557_row19_col1\" class=\"data row19 col1\" >282</td>\n",
              "    </tr>\n",
              "  </tbody>\n",
              "</table>\n"
            ],
            "text/plain": [
              "<pandas.io.formats.style.Styler at 0x14dcc7a23d0>"
            ]
          },
          "execution_count": 21,
          "metadata": {},
          "output_type": "execute_result"
        }
      ],
      "source": [
        "# Afficher les 20 mots les plus fréquents pour les tweets ayant un sentiment négatif\n",
        "print(\"\\nTop 20 Words - Negative Sentiment:\")\n",
        "print()  # Ajouter une ligne vide pour mieux organiser la sortie\n",
        "\n",
        "# Appliquer un dégradé de fond pour styliser le DataFrame et l'afficher\n",
        "styled_negative_words = top_negative_words.style.background_gradient(cmap='Purples')\n",
        "\n",
        "# Afficher le DataFrame stylisé avec le dégradé de fond\n",
        "styled_negative_words"
      ]
    },
    {
      "cell_type": "code",
      "execution_count": 22,
      "metadata": {
        "colab": {
          "base_uri": "https://localhost:8080/",
          "height": 542
        },
        "id": "QbKPaD81flPI",
        "outputId": "fa6ca309-5374-48fa-e788-2e51067faf5d"
      },
      "outputs": [],
      "source": [
        "# Créer un treemap avec Plotly Express pour visualiser les mots négatifs les plus fréquents\n",
        "fig = px.treemap(top_negative_words, path=['Word'], values='Count', title='Tree Of Unique Negative Words')\n"
      ]
    },
    {
      "cell_type": "code",
      "execution_count": 23,
      "metadata": {
        "colab": {
          "base_uri": "https://localhost:8080/",
          "height": 732
        },
        "id": "TNliODEmfedx",
        "outputId": "f586268a-3f70-4bdd-9c97-89259fe7803a"
      },
      "outputs": [
        {
          "name": "stdout",
          "output_type": "stream",
          "text": [
            "\n",
            "Top 20 Words - Neutral Sentiment:\n",
            "\n"
          ]
        },
        {
          "data": {
            "text/html": [
              "<style type=\"text/css\">\n",
              "#T_32317_row0_col1 {\n",
              "  background-color: #00441b;\n",
              "  color: #f1f1f1;\n",
              "}\n",
              "#T_32317_row1_col1 {\n",
              "  background-color: #00451c;\n",
              "  color: #f1f1f1;\n",
              "}\n",
              "#T_32317_row2_col1 {\n",
              "  background-color: #37a055;\n",
              "  color: #f1f1f1;\n",
              "}\n",
              "#T_32317_row3_col1 {\n",
              "  background-color: #8ed08b;\n",
              "  color: #000000;\n",
              "}\n",
              "#T_32317_row4_col1 {\n",
              "  background-color: #92d28f;\n",
              "  color: #000000;\n",
              "}\n",
              "#T_32317_row5_col1 {\n",
              "  background-color: #bee5b8;\n",
              "  color: #000000;\n",
              "}\n",
              "#T_32317_row6_col1 {\n",
              "  background-color: #d0edca;\n",
              "  color: #000000;\n",
              "}\n",
              "#T_32317_row7_col1 {\n",
              "  background-color: #d4eece;\n",
              "  color: #000000;\n",
              "}\n",
              "#T_32317_row8_col1 {\n",
              "  background-color: #d9f0d3;\n",
              "  color: #000000;\n",
              "}\n",
              "#T_32317_row9_col1 {\n",
              "  background-color: #dcf2d7;\n",
              "  color: #000000;\n",
              "}\n",
              "#T_32317_row10_col1 {\n",
              "  background-color: #dff3da;\n",
              "  color: #000000;\n",
              "}\n",
              "#T_32317_row11_col1 {\n",
              "  background-color: #e0f3db;\n",
              "  color: #000000;\n",
              "}\n",
              "#T_32317_row12_col1 {\n",
              "  background-color: #e2f4dd;\n",
              "  color: #000000;\n",
              "}\n",
              "#T_32317_row13_col1 {\n",
              "  background-color: #e5f5e1;\n",
              "  color: #000000;\n",
              "}\n",
              "#T_32317_row14_col1 {\n",
              "  background-color: #e9f7e5;\n",
              "  color: #000000;\n",
              "}\n",
              "#T_32317_row15_col1, #T_32317_row16_col1 {\n",
              "  background-color: #eff9eb;\n",
              "  color: #000000;\n",
              "}\n",
              "#T_32317_row17_col1 {\n",
              "  background-color: #f4fbf1;\n",
              "  color: #000000;\n",
              "}\n",
              "#T_32317_row18_col1 {\n",
              "  background-color: #f6fcf4;\n",
              "  color: #000000;\n",
              "}\n",
              "#T_32317_row19_col1 {\n",
              "  background-color: #f7fcf5;\n",
              "  color: #000000;\n",
              "}\n",
              "</style>\n",
              "<table id=\"T_32317\">\n",
              "  <thead>\n",
              "    <tr>\n",
              "      <th class=\"blank level0\" >&nbsp;</th>\n",
              "      <th id=\"T_32317_level0_col0\" class=\"col_heading level0 col0\" >Word</th>\n",
              "      <th id=\"T_32317_level0_col1\" class=\"col_heading level0 col1\" >Count</th>\n",
              "    </tr>\n",
              "  </thead>\n",
              "  <tbody>\n",
              "    <tr>\n",
              "      <th id=\"T_32317_level0_row0\" class=\"row_heading level0 row0\" >19</th>\n",
              "      <td id=\"T_32317_row0_col0\" class=\"data row0 col0\" >im</td>\n",
              "      <td id=\"T_32317_row0_col1\" class=\"data row0 col1\" >1058</td>\n",
              "    </tr>\n",
              "    <tr>\n",
              "      <th id=\"T_32317_level0_row1\" class=\"row_heading level0 row1\" >2</th>\n",
              "      <td id=\"T_32317_row1_col0\" class=\"data row1 col0\" >go</td>\n",
              "      <td id=\"T_32317_row1_col1\" class=\"data row1 col1\" >1055</td>\n",
              "    </tr>\n",
              "    <tr>\n",
              "      <th id=\"T_32317_level0_row2\" class=\"row_heading level0 row2\" >23</th>\n",
              "      <td id=\"T_32317_row2_col0\" class=\"data row2 col0\" >get</td>\n",
              "      <td id=\"T_32317_row2_col1\" class=\"data row2 col1\" >819</td>\n",
              "    </tr>\n",
              "    <tr>\n",
              "      <th id=\"T_32317_level0_row3\" class=\"row_heading level0 row3\" >164</th>\n",
              "      <td id=\"T_32317_row3_col0\" class=\"data row3 col0\" >work</td>\n",
              "      <td id=\"T_32317_row3_col1\" class=\"data row3 col1\" >647</td>\n",
              "    </tr>\n",
              "    <tr>\n",
              "      <th id=\"T_32317_level0_row4\" class=\"row_heading level0 row4\" >320</th>\n",
              "      <td id=\"T_32317_row4_col0\" class=\"data row4 col0\" >day</td>\n",
              "      <td id=\"T_32317_row4_col1\" class=\"data row4 col1\" >638</td>\n",
              "    </tr>\n",
              "    <tr>\n",
              "      <th id=\"T_32317_level0_row5\" class=\"row_heading level0 row5\" >42</th>\n",
              "      <td id=\"T_32317_row5_col0\" class=\"data row5 col0\" >got</td>\n",
              "      <td id=\"T_32317_row5_col1\" class=\"data row5 col1\" >539</td>\n",
              "    </tr>\n",
              "    <tr>\n",
              "      <th id=\"T_32317_level0_row6\" class=\"row_heading level0 row6\" >285</th>\n",
              "      <td id=\"T_32317_row6_col0\" class=\"data row6 col0\" >dont</td>\n",
              "      <td id=\"T_32317_row6_col1\" class=\"data row6 col1\" >491</td>\n",
              "    </tr>\n",
              "    <tr>\n",
              "      <th id=\"T_32317_level0_row7\" class=\"row_heading level0 row7\" >112</th>\n",
              "      <td id=\"T_32317_row7_col0\" class=\"data row7 col0\" >like</td>\n",
              "      <td id=\"T_32317_row7_col1\" class=\"data row7 col1\" >482</td>\n",
              "    </tr>\n",
              "    <tr>\n",
              "      <th id=\"T_32317_level0_row8\" class=\"row_heading level0 row8\" >224</th>\n",
              "      <td id=\"T_32317_row8_col0\" class=\"data row8 col0\" >time</td>\n",
              "      <td id=\"T_32317_row8_col1\" class=\"data row8 col1\" >468</td>\n",
              "    </tr>\n",
              "    <tr>\n",
              "      <th id=\"T_32317_level0_row9\" class=\"row_heading level0 row9\" >233</th>\n",
              "      <td id=\"T_32317_row9_col0\" class=\"data row9 col0\" >lol</td>\n",
              "      <td id=\"T_32317_row9_col1\" class=\"data row9 col1\" >455</td>\n",
              "    </tr>\n",
              "    <tr>\n",
              "      <th id=\"T_32317_level0_row10\" class=\"row_heading level0 row10\" >325</th>\n",
              "      <td id=\"T_32317_row10_col0\" class=\"data row10 col0\" >want</td>\n",
              "      <td id=\"T_32317_row10_col1\" class=\"data row10 col1\" >448</td>\n",
              "    </tr>\n",
              "    <tr>\n",
              "      <th id=\"T_32317_level0_row11\" class=\"row_heading level0 row11\" >41</th>\n",
              "      <td id=\"T_32317_row11_col0\" class=\"data row11 col0\" >today</td>\n",
              "      <td id=\"T_32317_row11_col1\" class=\"data row11 col1\" >443</td>\n",
              "    </tr>\n",
              "    <tr>\n",
              "      <th id=\"T_32317_level0_row12\" class=\"row_heading level0 row12\" >186</th>\n",
              "      <td id=\"T_32317_row12_col0\" class=\"data row12 col0\" >one</td>\n",
              "      <td id=\"T_32317_row12_col1\" class=\"data row12 col1\" >438</td>\n",
              "    </tr>\n",
              "    <tr>\n",
              "      <th id=\"T_32317_level0_row13\" class=\"row_heading level0 row13\" >166</th>\n",
              "      <td id=\"T_32317_row13_col0\" class=\"data row13 col0\" >know</td>\n",
              "      <td id=\"T_32317_row13_col1\" class=\"data row13 col1\" >428</td>\n",
              "    </tr>\n",
              "    <tr>\n",
              "      <th id=\"T_32317_level0_row14\" class=\"row_heading level0 row14\" >154</th>\n",
              "      <td id=\"T_32317_row14_col0\" class=\"data row14 col0\" >back</td>\n",
              "      <td id=\"T_32317_row14_col1\" class=\"data row14 col1\" >412</td>\n",
              "    </tr>\n",
              "    <tr>\n",
              "      <th id=\"T_32317_level0_row15\" class=\"row_heading level0 row15\" >200</th>\n",
              "      <td id=\"T_32317_row15_col0\" class=\"data row15 col0\" >u</td>\n",
              "      <td id=\"T_32317_row15_col1\" class=\"data row15 col1\" >383</td>\n",
              "    </tr>\n",
              "    <tr>\n",
              "      <th id=\"T_32317_level0_row16\" class=\"row_heading level0 row16\" >53</th>\n",
              "      <td id=\"T_32317_row16_col0\" class=\"data row16 col0\" >see</td>\n",
              "      <td id=\"T_32317_row16_col1\" class=\"data row16 col1\" >382</td>\n",
              "    </tr>\n",
              "    <tr>\n",
              "      <th id=\"T_32317_level0_row17\" class=\"row_heading level0 row17\" >273</th>\n",
              "      <td id=\"T_32317_row17_col0\" class=\"data row17 col0\" >think</td>\n",
              "      <td id=\"T_32317_row17_col1\" class=\"data row17 col1\" >356</td>\n",
              "    </tr>\n",
              "    <tr>\n",
              "      <th id=\"T_32317_level0_row18\" class=\"row_heading level0 row18\" >393</th>\n",
              "      <td id=\"T_32317_row18_col0\" class=\"data row18 col0\" >cant</td>\n",
              "      <td id=\"T_32317_row18_col1\" class=\"data row18 col1\" >345</td>\n",
              "    </tr>\n",
              "    <tr>\n",
              "      <th id=\"T_32317_level0_row19\" class=\"row_heading level0 row19\" >359</th>\n",
              "      <td id=\"T_32317_row19_col0\" class=\"data row19 col0\" >home</td>\n",
              "      <td id=\"T_32317_row19_col1\" class=\"data row19 col1\" >339</td>\n",
              "    </tr>\n",
              "  </tbody>\n",
              "</table>\n"
            ],
            "text/plain": [
              "<pandas.io.formats.style.Styler at 0x14dcc0f8a50>"
            ]
          },
          "execution_count": 23,
          "metadata": {},
          "output_type": "execute_result"
        }
      ],
      "source": [
        "# Afficher les 20 mots les plus fréquents pour les tweets ayant un sentiment neutre\n",
        "print(\"\\nTop 20 Words - Neutral Sentiment:\")\n",
        "print()  # Ajouter une ligne vide pour mieux organiser la sortie\n",
        "\n",
        "# Appliquer un dégradé de fond pour styliser le DataFrame et l'afficher\n",
        "styled_neutral_words = top_neutral_words.style.background_gradient(cmap='Greens')\n",
        "\n",
        "# Afficher le DataFrame stylisé avec le dégradé de fond\n",
        "styled_neutral_words"
      ]
    },
    {
      "cell_type": "code",
      "execution_count": 24,
      "metadata": {
        "colab": {
          "base_uri": "https://localhost:8080/",
          "height": 542
        },
        "id": "6nLhcs4ffoed",
        "outputId": "3d3cc7ea-73db-4189-930a-d403420b3618"
      },
      "outputs": [],
      "source": [
        "# Créer un treemap avec Plotly Express pour visualiser les mots neutres les plus fréquents\n",
        "fig = px.treemap(top_neutral_words, path=['Word'], values='Count', title='Tree Of Unique Neutral Words')"
      ]
    }
  ],
  "metadata": {
    "colab": {
      "provenance": []
    },
    "kernelspec": {
      "display_name": "Python 3",
      "name": "python3"
    },
    "language_info": {
      "codemirror_mode": {
        "name": "ipython",
        "version": 3
      },
      "file_extension": ".py",
      "mimetype": "text/x-python",
      "name": "python",
      "nbconvert_exporter": "python",
      "pygments_lexer": "ipython3",
      "version": "3.11.6"
    }
  },
  "nbformat": 4,
  "nbformat_minor": 0
}
